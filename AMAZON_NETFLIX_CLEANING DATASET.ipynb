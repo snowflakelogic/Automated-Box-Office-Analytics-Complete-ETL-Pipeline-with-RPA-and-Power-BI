{
 "cells": [
  {
   "cell_type": "code",
   "execution_count": 1,
   "id": "1dd19c50-7a18-4584-a361-aca8cc0e849b",
   "metadata": {},
   "outputs": [],
   "source": [
    "import pandas as pd"
   ]
  },
  {
   "cell_type": "code",
   "execution_count": 7,
   "id": "a202d98f-15dd-4c99-93be-cac6b29da045",
   "metadata": {},
   "outputs": [],
   "source": [
    "df1 = pd.read_csv('NETFLIX_LATEST_DATASET.csv')"
   ]
  },
  {
   "cell_type": "code",
   "execution_count": 72,
   "id": "512ed3cd-095b-4f4c-8455-825cbad44d88",
   "metadata": {},
   "outputs": [
    {
     "data": {
      "text/plain": [
       "title           1777\n",
       "type               0\n",
       "genres          2237\n",
       "releaseYear      205\n",
       "imdbId          6899\n",
       "imdbRating      9205\n",
       "imdbNumVotes    9205\n",
       "dtype: int64"
      ]
     },
     "execution_count": 72,
     "metadata": {},
     "output_type": "execute_result"
    }
   ],
   "source": [
    "df = pd.read_csv('AMAZON_LATEST_DATASET.csv')\n",
    "df.isnull().sum()"
   ]
  },
  {
   "cell_type": "code",
   "execution_count": 74,
   "id": "cf57b88b-d57d-4103-91fa-dadf7c7a3509",
   "metadata": {},
   "outputs": [
    {
     "data": {
      "text/plain": [
       "title              0\n",
       "type               0\n",
       "genres          1533\n",
       "releaseYear       92\n",
       "imdbId          5122\n",
       "imdbRating      7428\n",
       "imdbNumVotes    7428\n",
       "dtype: int64"
      ]
     },
     "execution_count": 74,
     "metadata": {},
     "output_type": "execute_result"
    }
   ],
   "source": [
    "df_cleaned = df.dropna(subset=['title'])\n",
    "df_cleaned.isnull().sum()"
   ]
  },
  {
   "cell_type": "code",
   "execution_count": 76,
   "id": "a86352b6-475d-4a84-84c3-c1284774bc75",
   "metadata": {},
   "outputs": [
    {
     "data": {
      "text/plain": [
       "title            0\n",
       "type             0\n",
       "genres          62\n",
       "releaseYear      0\n",
       "imdbId           0\n",
       "imdbRating       0\n",
       "imdbNumVotes     0\n",
       "dtype: int64"
      ]
     },
     "execution_count": 76,
     "metadata": {},
     "output_type": "execute_result"
    }
   ],
   "source": [
    "df_cleaned = df_cleaned.dropna(subset=['imdbNumVotes'])\n",
    "df_cleaned.isnull().sum()"
   ]
  },
  {
   "cell_type": "code",
   "execution_count": 78,
   "id": "d8f2c65f-8a1f-46a0-b0de-2eff0bf418de",
   "metadata": {},
   "outputs": [
    {
     "data": {
      "text/plain": [
       "title           0\n",
       "type            0\n",
       "genres          0\n",
       "releaseYear     0\n",
       "imdbId          0\n",
       "imdbRating      0\n",
       "imdbNumVotes    0\n",
       "dtype: int64"
      ]
     },
     "execution_count": 78,
     "metadata": {},
     "output_type": "execute_result"
    }
   ],
   "source": [
    "df_cleaned = df_cleaned.dropna(subset=['genres'])\n",
    "df_cleaned.isnull().sum()"
   ]
  },
  {
   "cell_type": "code",
   "execution_count": 84,
   "id": "33fc526a-1fde-4b48-9ac2-8fe73da89e52",
   "metadata": {},
   "outputs": [],
   "source": [
    "df_cleaned['genres'] = df_cleaned['genres'].str.split(',')"
   ]
  },
  {
   "cell_type": "code",
   "execution_count": 86,
   "id": "c95b2094-c44d-4422-af5f-8d2595aedcaa",
   "metadata": {},
   "outputs": [],
   "source": [
    "df_cleaned = df_cleaned.explode('genres')"
   ]
  },
  {
   "cell_type": "code",
   "execution_count": 88,
   "id": "fefd5642-61a4-44fa-bedb-0b1e19b4486b",
   "metadata": {},
   "outputs": [
    {
     "data": {
      "text/html": [
       "<div>\n",
       "<style scoped>\n",
       "    .dataframe tbody tr th:only-of-type {\n",
       "        vertical-align: middle;\n",
       "    }\n",
       "\n",
       "    .dataframe tbody tr th {\n",
       "        vertical-align: top;\n",
       "    }\n",
       "\n",
       "    .dataframe thead th {\n",
       "        text-align: right;\n",
       "    }\n",
       "</style>\n",
       "<table border=\"1\" class=\"dataframe\">\n",
       "  <thead>\n",
       "    <tr style=\"text-align: right;\">\n",
       "      <th></th>\n",
       "      <th>title</th>\n",
       "      <th>type</th>\n",
       "      <th>genres</th>\n",
       "      <th>releaseYear</th>\n",
       "      <th>imdbId</th>\n",
       "      <th>imdbRating</th>\n",
       "      <th>imdbNumVotes</th>\n",
       "    </tr>\n",
       "  </thead>\n",
       "  <tbody>\n",
       "    <tr>\n",
       "      <th>0</th>\n",
       "      <td>Judgment Night</td>\n",
       "      <td>movie</td>\n",
       "      <td>Action</td>\n",
       "      <td>1993.0</td>\n",
       "      <td>tt0107286</td>\n",
       "      <td>6.6</td>\n",
       "      <td>20029.0</td>\n",
       "    </tr>\n",
       "    <tr>\n",
       "      <th>0</th>\n",
       "      <td>Judgment Night</td>\n",
       "      <td>movie</td>\n",
       "      <td>Crime</td>\n",
       "      <td>1993.0</td>\n",
       "      <td>tt0107286</td>\n",
       "      <td>6.6</td>\n",
       "      <td>20029.0</td>\n",
       "    </tr>\n",
       "    <tr>\n",
       "      <th>0</th>\n",
       "      <td>Judgment Night</td>\n",
       "      <td>movie</td>\n",
       "      <td>Drama</td>\n",
       "      <td>1993.0</td>\n",
       "      <td>tt0107286</td>\n",
       "      <td>6.6</td>\n",
       "      <td>20029.0</td>\n",
       "    </tr>\n",
       "    <tr>\n",
       "      <th>1</th>\n",
       "      <td>Forrest Gump</td>\n",
       "      <td>movie</td>\n",
       "      <td>Drama</td>\n",
       "      <td>1994.0</td>\n",
       "      <td>tt0109830</td>\n",
       "      <td>8.8</td>\n",
       "      <td>2386121.0</td>\n",
       "    </tr>\n",
       "    <tr>\n",
       "      <th>1</th>\n",
       "      <td>Forrest Gump</td>\n",
       "      <td>movie</td>\n",
       "      <td>Romance</td>\n",
       "      <td>1994.0</td>\n",
       "      <td>tt0109830</td>\n",
       "      <td>8.8</td>\n",
       "      <td>2386121.0</td>\n",
       "    </tr>\n",
       "    <tr>\n",
       "      <th>2</th>\n",
       "      <td>Citizen Kane</td>\n",
       "      <td>movie</td>\n",
       "      <td>Drama</td>\n",
       "      <td>1941.0</td>\n",
       "      <td>tt0033467</td>\n",
       "      <td>8.3</td>\n",
       "      <td>482706.0</td>\n",
       "    </tr>\n",
       "    <tr>\n",
       "      <th>2</th>\n",
       "      <td>Citizen Kane</td>\n",
       "      <td>movie</td>\n",
       "      <td>Mystery</td>\n",
       "      <td>1941.0</td>\n",
       "      <td>tt0033467</td>\n",
       "      <td>8.3</td>\n",
       "      <td>482706.0</td>\n",
       "    </tr>\n",
       "    <tr>\n",
       "      <th>3</th>\n",
       "      <td>Dancer in the Dark</td>\n",
       "      <td>movie</td>\n",
       "      <td>Crime</td>\n",
       "      <td>2000.0</td>\n",
       "      <td>tt0168629</td>\n",
       "      <td>7.9</td>\n",
       "      <td>120878.0</td>\n",
       "    </tr>\n",
       "    <tr>\n",
       "      <th>3</th>\n",
       "      <td>Dancer in the Dark</td>\n",
       "      <td>movie</td>\n",
       "      <td>Drama</td>\n",
       "      <td>2000.0</td>\n",
       "      <td>tt0168629</td>\n",
       "      <td>7.9</td>\n",
       "      <td>120878.0</td>\n",
       "    </tr>\n",
       "    <tr>\n",
       "      <th>3</th>\n",
       "      <td>Dancer in the Dark</td>\n",
       "      <td>movie</td>\n",
       "      <td>Musical</td>\n",
       "      <td>2000.0</td>\n",
       "      <td>tt0168629</td>\n",
       "      <td>7.9</td>\n",
       "      <td>120878.0</td>\n",
       "    </tr>\n",
       "  </tbody>\n",
       "</table>\n",
       "</div>"
      ],
      "text/plain": [
       "                title   type    genres  releaseYear     imdbId  imdbRating  \\\n",
       "0      Judgment Night  movie    Action       1993.0  tt0107286         6.6   \n",
       "0      Judgment Night  movie     Crime       1993.0  tt0107286         6.6   \n",
       "0      Judgment Night  movie     Drama       1993.0  tt0107286         6.6   \n",
       "1        Forrest Gump  movie     Drama       1994.0  tt0109830         8.8   \n",
       "1        Forrest Gump  movie   Romance       1994.0  tt0109830         8.8   \n",
       "2        Citizen Kane  movie     Drama       1941.0  tt0033467         8.3   \n",
       "2        Citizen Kane  movie   Mystery       1941.0  tt0033467         8.3   \n",
       "3  Dancer in the Dark  movie     Crime       2000.0  tt0168629         7.9   \n",
       "3  Dancer in the Dark  movie     Drama       2000.0  tt0168629         7.9   \n",
       "3  Dancer in the Dark  movie   Musical       2000.0  tt0168629         7.9   \n",
       "\n",
       "   imdbNumVotes  \n",
       "0       20029.0  \n",
       "0       20029.0  \n",
       "0       20029.0  \n",
       "1     2386121.0  \n",
       "1     2386121.0  \n",
       "2      482706.0  \n",
       "2      482706.0  \n",
       "3      120878.0  \n",
       "3      120878.0  \n",
       "3      120878.0  "
      ]
     },
     "execution_count": 88,
     "metadata": {},
     "output_type": "execute_result"
    }
   ],
   "source": [
    "df_cleaned.head(10)"
   ]
  },
  {
   "cell_type": "code",
   "execution_count": 90,
   "id": "ca6ea27b-eb36-4f6b-acdd-faece20ec5ff",
   "metadata": {},
   "outputs": [],
   "source": [
    "df_cleaned.to_csv(\"CLEANED_AMAZON.csv\",index=False)"
   ]
  },
  {
   "cell_type": "code",
   "execution_count": 82,
   "id": "3c40e2a3-2679-4e9c-86b5-62d3f215d322",
   "metadata": {},
   "outputs": [
    {
     "data": {
      "text/html": [
       "<div>\n",
       "<style scoped>\n",
       "    .dataframe tbody tr th:only-of-type {\n",
       "        vertical-align: middle;\n",
       "    }\n",
       "\n",
       "    .dataframe tbody tr th {\n",
       "        vertical-align: top;\n",
       "    }\n",
       "\n",
       "    .dataframe thead th {\n",
       "        text-align: right;\n",
       "    }\n",
       "</style>\n",
       "<table border=\"1\" class=\"dataframe\">\n",
       "  <thead>\n",
       "    <tr style=\"text-align: right;\">\n",
       "      <th></th>\n",
       "      <th>title</th>\n",
       "      <th>type</th>\n",
       "      <th>genres</th>\n",
       "      <th>releaseYear</th>\n",
       "      <th>imdbId</th>\n",
       "      <th>imdbRating</th>\n",
       "      <th>imdbNumVotes</th>\n",
       "    </tr>\n",
       "  </thead>\n",
       "  <tbody>\n",
       "    <tr>\n",
       "      <th>0</th>\n",
       "      <td>Judgment Night</td>\n",
       "      <td>movie</td>\n",
       "      <td>Action, Crime, Drama</td>\n",
       "      <td>1993.0</td>\n",
       "      <td>tt0107286</td>\n",
       "      <td>6.6</td>\n",
       "      <td>20029.0</td>\n",
       "    </tr>\n",
       "    <tr>\n",
       "      <th>1</th>\n",
       "      <td>Forrest Gump</td>\n",
       "      <td>movie</td>\n",
       "      <td>Drama, Romance</td>\n",
       "      <td>1994.0</td>\n",
       "      <td>tt0109830</td>\n",
       "      <td>8.8</td>\n",
       "      <td>2386121.0</td>\n",
       "    </tr>\n",
       "    <tr>\n",
       "      <th>2</th>\n",
       "      <td>Citizen Kane</td>\n",
       "      <td>movie</td>\n",
       "      <td>Drama, Mystery</td>\n",
       "      <td>1941.0</td>\n",
       "      <td>tt0033467</td>\n",
       "      <td>8.3</td>\n",
       "      <td>482706.0</td>\n",
       "    </tr>\n",
       "    <tr>\n",
       "      <th>3</th>\n",
       "      <td>Dancer in the Dark</td>\n",
       "      <td>movie</td>\n",
       "      <td>Crime, Drama, Musical</td>\n",
       "      <td>2000.0</td>\n",
       "      <td>tt0168629</td>\n",
       "      <td>7.9</td>\n",
       "      <td>120878.0</td>\n",
       "    </tr>\n",
       "    <tr>\n",
       "      <th>4</th>\n",
       "      <td>The Dark</td>\n",
       "      <td>movie</td>\n",
       "      <td>Drama, Fantasy, Horror</td>\n",
       "      <td>2005.0</td>\n",
       "      <td>tt0411267</td>\n",
       "      <td>5.3</td>\n",
       "      <td>11693.0</td>\n",
       "    </tr>\n",
       "    <tr>\n",
       "      <th>5</th>\n",
       "      <td>Metropolis</td>\n",
       "      <td>movie</td>\n",
       "      <td>Drama, Sci-Fi</td>\n",
       "      <td>1927.0</td>\n",
       "      <td>tt0017136</td>\n",
       "      <td>8.3</td>\n",
       "      <td>195031.0</td>\n",
       "    </tr>\n",
       "    <tr>\n",
       "      <th>6</th>\n",
       "      <td>My Life Without Me</td>\n",
       "      <td>movie</td>\n",
       "      <td>Drama, Romance</td>\n",
       "      <td>2003.0</td>\n",
       "      <td>tt0314412</td>\n",
       "      <td>7.4</td>\n",
       "      <td>26271.0</td>\n",
       "    </tr>\n",
       "    <tr>\n",
       "      <th>7</th>\n",
       "      <td>The Endless Summer</td>\n",
       "      <td>movie</td>\n",
       "      <td>Documentary, Sport</td>\n",
       "      <td>1966.0</td>\n",
       "      <td>tt0060371</td>\n",
       "      <td>7.6</td>\n",
       "      <td>6589.0</td>\n",
       "    </tr>\n",
       "    <tr>\n",
       "      <th>8</th>\n",
       "      <td>Kill Bill: Vol. 1</td>\n",
       "      <td>movie</td>\n",
       "      <td>Action, Crime, Thriller</td>\n",
       "      <td>2003.0</td>\n",
       "      <td>tt0266697</td>\n",
       "      <td>8.2</td>\n",
       "      <td>1253647.0</td>\n",
       "    </tr>\n",
       "    <tr>\n",
       "      <th>9</th>\n",
       "      <td>Jarhead</td>\n",
       "      <td>movie</td>\n",
       "      <td>Biography, Drama, War</td>\n",
       "      <td>2005.0</td>\n",
       "      <td>tt0418763</td>\n",
       "      <td>7.0</td>\n",
       "      <td>216106.0</td>\n",
       "    </tr>\n",
       "  </tbody>\n",
       "</table>\n",
       "</div>"
      ],
      "text/plain": [
       "                title   type                   genres  releaseYear     imdbId  \\\n",
       "0      Judgment Night  movie     Action, Crime, Drama       1993.0  tt0107286   \n",
       "1        Forrest Gump  movie           Drama, Romance       1994.0  tt0109830   \n",
       "2        Citizen Kane  movie           Drama, Mystery       1941.0  tt0033467   \n",
       "3  Dancer in the Dark  movie    Crime, Drama, Musical       2000.0  tt0168629   \n",
       "4            The Dark  movie   Drama, Fantasy, Horror       2005.0  tt0411267   \n",
       "5          Metropolis  movie            Drama, Sci-Fi       1927.0  tt0017136   \n",
       "6  My Life Without Me  movie           Drama, Romance       2003.0  tt0314412   \n",
       "7  The Endless Summer  movie       Documentary, Sport       1966.0  tt0060371   \n",
       "8   Kill Bill: Vol. 1  movie  Action, Crime, Thriller       2003.0  tt0266697   \n",
       "9             Jarhead  movie    Biography, Drama, War       2005.0  tt0418763   \n",
       "\n",
       "   imdbRating  imdbNumVotes  \n",
       "0         6.6       20029.0  \n",
       "1         8.8     2386121.0  \n",
       "2         8.3      482706.0  \n",
       "3         7.9      120878.0  \n",
       "4         5.3       11693.0  \n",
       "5         8.3      195031.0  \n",
       "6         7.4       26271.0  \n",
       "7         7.6        6589.0  \n",
       "8         8.2     1253647.0  \n",
       "9         7.0      216106.0  "
      ]
     },
     "execution_count": 82,
     "metadata": {},
     "output_type": "execute_result"
    }
   ],
   "source": [
    "df_cleaned.head(10)"
   ]
  },
  {
   "cell_type": "code",
   "execution_count": 94,
   "id": "2f350c18-584d-4a3f-8a80-b8bf5dcc540d",
   "metadata": {},
   "outputs": [
    {
     "data": {
      "text/plain": [
       "array(['Action', ' Crime', ' Drama', 'Drama', ' Romance', ' Mystery',\n",
       "       'Crime', ' Musical', ' Fantasy', ' Horror', ' Sci-Fi',\n",
       "       'Documentary', ' Sport', ' Thriller', 'Biography', ' War',\n",
       "       'Adventure', 'Mystery', ' Music', ' Adventure', 'Comedy',\n",
       "       ' Comedy', ' Family', 'Animation', 'Horror', ' History',\n",
       "       ' Film-Noir', ' Western', ' Documentary', ' Animation', 'Fantasy',\n",
       "       ' Biography', 'Sci-Fi', 'Thriller', 'Romance', 'Family', 'Western',\n",
       "       'Music', ' Short', 'War', ' News', 'Film-Noir', 'History',\n",
       "       'Musical', 'Sport', 'Reality-TV', ' Reality-TV', ' Talk-Show',\n",
       "       'Short', ' Science Fiction', 'Adult', ' TV Movie',\n",
       "       'Science Fiction', ' Action', 'TV Movie', 'Talk-Show', 'Game-Show',\n",
       "       ' Game-Show', 'News', ' Reality', 'Reality', ' Action & Adventure',\n",
       "       ' Kids'], dtype=object)"
      ]
     },
     "execution_count": 94,
     "metadata": {},
     "output_type": "execute_result"
    }
   ],
   "source": [
    "df_cleaned['genres'].unique()\n",
    "DecadeLabel = INT('EXPLODED_AMAZON'[releaseYear] / 10) * 10"
   ]
  },
  {
   "cell_type": "code",
   "execution_count": 11,
   "id": "95b344dc-3d9b-49c3-b563-ae92293e7430",
   "metadata": {},
   "outputs": [
    {
     "data": {
      "text/plain": [
       "title                 731\n",
       "type                    0\n",
       "genres                370\n",
       "releaseYear            40\n",
       "imdbId               1642\n",
       "imdbAverageRating    1820\n",
       "imdbNumVotes         1820\n",
       "dtype: int64"
      ]
     },
     "execution_count": 11,
     "metadata": {},
     "output_type": "execute_result"
    }
   ],
   "source": [
    "df1.isnull().sum()"
   ]
  },
  {
   "cell_type": "code",
   "execution_count": 17,
   "id": "60555b28-eb27-4a7f-b710-9d55947243f5",
   "metadata": {},
   "outputs": [],
   "source": [
    "df_cleaned = df1.dropna(subset=['title'])"
   ]
  },
  {
   "cell_type": "code",
   "execution_count": 21,
   "id": "8e25147d-401c-452b-8881-881fb2f832bb",
   "metadata": {},
   "outputs": [
    {
     "data": {
      "text/plain": [
       "title                   0\n",
       "type                    0\n",
       "genres                171\n",
       "releaseYear             3\n",
       "imdbId                911\n",
       "imdbAverageRating    1089\n",
       "imdbNumVotes         1089\n",
       "dtype: int64"
      ]
     },
     "execution_count": 21,
     "metadata": {},
     "output_type": "execute_result"
    }
   ],
   "source": [
    "df_cleaned.isnull().sum()"
   ]
  },
  {
   "cell_type": "code",
   "execution_count": 25,
   "id": "fa6aa757-ee7f-4b8c-a08d-5319851ef473",
   "metadata": {},
   "outputs": [],
   "source": [
    "df_cleaned = df_cleaned.dropna(subset=['imdbAverageRating'])"
   ]
  },
  {
   "cell_type": "code",
   "execution_count": 27,
   "id": "4abd5752-5561-4b46-ab84-2bb8995d3c03",
   "metadata": {},
   "outputs": [
    {
     "data": {
      "text/plain": [
       "title                0\n",
       "type                 0\n",
       "genres               1\n",
       "releaseYear          0\n",
       "imdbId               0\n",
       "imdbAverageRating    0\n",
       "imdbNumVotes         0\n",
       "dtype: int64"
      ]
     },
     "execution_count": 27,
     "metadata": {},
     "output_type": "execute_result"
    }
   ],
   "source": [
    "df_cleaned.isnull().sum()"
   ]
  },
  {
   "cell_type": "code",
   "execution_count": 29,
   "id": "1ac1227b-0dcf-4966-be21-c446975d1465",
   "metadata": {},
   "outputs": [],
   "source": [
    "df_cleaned = df_cleaned.dropna(subset=['genres'])"
   ]
  },
  {
   "cell_type": "code",
   "execution_count": 31,
   "id": "70d5d744-2d68-41ac-81f0-0b6f7439ae69",
   "metadata": {},
   "outputs": [
    {
     "data": {
      "text/plain": [
       "title                0\n",
       "type                 0\n",
       "genres               0\n",
       "releaseYear          0\n",
       "imdbId               0\n",
       "imdbAverageRating    0\n",
       "imdbNumVotes         0\n",
       "dtype: int64"
      ]
     },
     "execution_count": 31,
     "metadata": {},
     "output_type": "execute_result"
    }
   ],
   "source": [
    "df_cleaned.isnull().sum()"
   ]
  },
  {
   "cell_type": "code",
   "execution_count": 33,
   "id": "92d0c35e-2bf6-4bac-8112-c4c95f8f3698",
   "metadata": {},
   "outputs": [],
   "source": [
    "df_cleaned.to_csv(\"CLEANED_NETFLIX.csv\",index=False)"
   ]
  },
  {
   "cell_type": "code",
   "execution_count": 42,
   "id": "9ca312e7-5630-464f-9926-4ddded843e17",
   "metadata": {},
   "outputs": [],
   "source": [
    "df_cleaned['genres'] = df_cleaned['genres'].str.split(',')"
   ]
  },
  {
   "cell_type": "code",
   "execution_count": 44,
   "id": "b2b061af-e768-456f-b6ac-ec8e475ceb67",
   "metadata": {},
   "outputs": [],
   "source": [
    "df_exploded = df_cleaned.explode('genres')"
   ]
  },
  {
   "cell_type": "code",
   "execution_count": 54,
   "id": "f2cb1157-5f90-4a2c-b2d0-a5bc679e92c3",
   "metadata": {},
   "outputs": [
    {
     "data": {
      "text/html": [
       "<div>\n",
       "<style scoped>\n",
       "    .dataframe tbody tr th:only-of-type {\n",
       "        vertical-align: middle;\n",
       "    }\n",
       "\n",
       "    .dataframe tbody tr th {\n",
       "        vertical-align: top;\n",
       "    }\n",
       "\n",
       "    .dataframe thead th {\n",
       "        text-align: right;\n",
       "    }\n",
       "</style>\n",
       "<table border=\"1\" class=\"dataframe\">\n",
       "  <thead>\n",
       "    <tr style=\"text-align: right;\">\n",
       "      <th></th>\n",
       "      <th>title</th>\n",
       "      <th>type</th>\n",
       "      <th>genres</th>\n",
       "      <th>releaseYear</th>\n",
       "      <th>imdbId</th>\n",
       "      <th>imdbAverageRating</th>\n",
       "      <th>imdbNumVotes</th>\n",
       "    </tr>\n",
       "  </thead>\n",
       "  <tbody>\n",
       "    <tr>\n",
       "      <th>0</th>\n",
       "      <td>Ariel</td>\n",
       "      <td>movie</td>\n",
       "      <td>Comedy</td>\n",
       "      <td>1988.0</td>\n",
       "      <td>tt0094675</td>\n",
       "      <td>7.4</td>\n",
       "      <td>9216.0</td>\n",
       "    </tr>\n",
       "    <tr>\n",
       "      <th>0</th>\n",
       "      <td>Ariel</td>\n",
       "      <td>movie</td>\n",
       "      <td>Crime</td>\n",
       "      <td>1988.0</td>\n",
       "      <td>tt0094675</td>\n",
       "      <td>7.4</td>\n",
       "      <td>9216.0</td>\n",
       "    </tr>\n",
       "    <tr>\n",
       "      <th>0</th>\n",
       "      <td>Ariel</td>\n",
       "      <td>movie</td>\n",
       "      <td>Drama</td>\n",
       "      <td>1988.0</td>\n",
       "      <td>tt0094675</td>\n",
       "      <td>7.4</td>\n",
       "      <td>9216.0</td>\n",
       "    </tr>\n",
       "    <tr>\n",
       "      <th>1</th>\n",
       "      <td>Shadows in Paradise</td>\n",
       "      <td>movie</td>\n",
       "      <td>Comedy</td>\n",
       "      <td>1986.0</td>\n",
       "      <td>tt0092149</td>\n",
       "      <td>7.4</td>\n",
       "      <td>8043.0</td>\n",
       "    </tr>\n",
       "    <tr>\n",
       "      <th>1</th>\n",
       "      <td>Shadows in Paradise</td>\n",
       "      <td>movie</td>\n",
       "      <td>Drama</td>\n",
       "      <td>1986.0</td>\n",
       "      <td>tt0092149</td>\n",
       "      <td>7.4</td>\n",
       "      <td>8043.0</td>\n",
       "    </tr>\n",
       "    <tr>\n",
       "      <th>...</th>\n",
       "      <td>...</td>\n",
       "      <td>...</td>\n",
       "      <td>...</td>\n",
       "      <td>...</td>\n",
       "      <td>...</td>\n",
       "      <td>...</td>\n",
       "      <td>...</td>\n",
       "    </tr>\n",
       "    <tr>\n",
       "      <th>26</th>\n",
       "      <td>Indiana Jones and the Last Crusade</td>\n",
       "      <td>movie</td>\n",
       "      <td>Adventure</td>\n",
       "      <td>1989.0</td>\n",
       "      <td>tt0097576</td>\n",
       "      <td>8.2</td>\n",
       "      <td>840413.0</td>\n",
       "    </tr>\n",
       "    <tr>\n",
       "      <th>27</th>\n",
       "      <td>Beverly Hills Cop</td>\n",
       "      <td>movie</td>\n",
       "      <td>Action</td>\n",
       "      <td>1984.0</td>\n",
       "      <td>tt0086960</td>\n",
       "      <td>7.4</td>\n",
       "      <td>224457.0</td>\n",
       "    </tr>\n",
       "    <tr>\n",
       "      <th>27</th>\n",
       "      <td>Beverly Hills Cop</td>\n",
       "      <td>movie</td>\n",
       "      <td>Comedy</td>\n",
       "      <td>1984.0</td>\n",
       "      <td>tt0086960</td>\n",
       "      <td>7.4</td>\n",
       "      <td>224457.0</td>\n",
       "    </tr>\n",
       "    <tr>\n",
       "      <th>27</th>\n",
       "      <td>Beverly Hills Cop</td>\n",
       "      <td>movie</td>\n",
       "      <td>Crime</td>\n",
       "      <td>1984.0</td>\n",
       "      <td>tt0086960</td>\n",
       "      <td>7.4</td>\n",
       "      <td>224457.0</td>\n",
       "    </tr>\n",
       "    <tr>\n",
       "      <th>28</th>\n",
       "      <td>Beverly Hills Cop II</td>\n",
       "      <td>movie</td>\n",
       "      <td>Action</td>\n",
       "      <td>1987.0</td>\n",
       "      <td>tt0092644</td>\n",
       "      <td>6.6</td>\n",
       "      <td>143759.0</td>\n",
       "    </tr>\n",
       "  </tbody>\n",
       "</table>\n",
       "<p>70 rows × 7 columns</p>\n",
       "</div>"
      ],
      "text/plain": [
       "                                 title   type      genres  releaseYear  \\\n",
       "0                                Ariel  movie      Comedy       1988.0   \n",
       "0                                Ariel  movie       Crime       1988.0   \n",
       "0                                Ariel  movie       Drama       1988.0   \n",
       "1                  Shadows in Paradise  movie      Comedy       1986.0   \n",
       "1                  Shadows in Paradise  movie       Drama       1986.0   \n",
       "..                                 ...    ...         ...          ...   \n",
       "26  Indiana Jones and the Last Crusade  movie   Adventure       1989.0   \n",
       "27                   Beverly Hills Cop  movie      Action       1984.0   \n",
       "27                   Beverly Hills Cop  movie      Comedy       1984.0   \n",
       "27                   Beverly Hills Cop  movie       Crime       1984.0   \n",
       "28                Beverly Hills Cop II  movie      Action       1987.0   \n",
       "\n",
       "       imdbId  imdbAverageRating  imdbNumVotes  \n",
       "0   tt0094675                7.4        9216.0  \n",
       "0   tt0094675                7.4        9216.0  \n",
       "0   tt0094675                7.4        9216.0  \n",
       "1   tt0092149                7.4        8043.0  \n",
       "1   tt0092149                7.4        8043.0  \n",
       "..        ...                ...           ...  \n",
       "26  tt0097576                8.2      840413.0  \n",
       "27  tt0086960                7.4      224457.0  \n",
       "27  tt0086960                7.4      224457.0  \n",
       "27  tt0086960                7.4      224457.0  \n",
       "28  tt0092644                6.6      143759.0  \n",
       "\n",
       "[70 rows x 7 columns]"
      ]
     },
     "execution_count": 54,
     "metadata": {},
     "output_type": "execute_result"
    }
   ],
   "source": [
    "df_exploded.head(70)"
   ]
  },
  {
   "cell_type": "code",
   "execution_count": 48,
   "id": "84d88df3-94fb-4cdf-bfdb-b9557659f231",
   "metadata": {},
   "outputs": [],
   "source": [
    "df_exploded.to_csv(\"EXPLODED_NETFLIX.csv\",index=False)"
   ]
  },
  {
   "cell_type": "code",
   "execution_count": 58,
   "id": "a0618195-d076-408e-a961-ddd0e4c90d9f",
   "metadata": {},
   "outputs": [
    {
     "data": {
      "text/plain": [
       "array(['Comedy', ' Crime', ' Drama', ' Music', 'Drama', ' Romance',\n",
       "       'Action', ' Adventure', ' Sci-Fi', 'Biography', ' War', ' Western',\n",
       "       ' Thriller', ' Mystery', 'Crime', ' Sport', 'Mystery', 'Adventure',\n",
       "       ' Animation', ' Horror', ' Comedy', ' Family', ' Fantasy',\n",
       "       'Animation', 'Horror', 'Western', ' History', ' Musical',\n",
       "       ' Biography', 'Fantasy', 'Documentary', ' Film-Noir', 'Sci-Fi',\n",
       "       'Thriller', 'Romance', ' Documentary', 'Family', ' Short', 'Music',\n",
       "       'War', 'Musical', ' News', ' Reality-TV', 'Sport', 'History',\n",
       "       'Reality-TV', 'Short', 'Talk-Show', 'Adult', ' Game-Show',\n",
       "       'Game-Show', ' Talk-Show', ' Action', ' Kids',\n",
       "       ' Action & Adventure', 'Action & Adventure'], dtype=object)"
      ]
     },
     "execution_count": 58,
     "metadata": {},
     "output_type": "execute_result"
    }
   ],
   "source": [
    "df_exploded['genres'].unique()"
   ]
  },
  {
   "cell_type": "code",
   "execution_count": null,
   "id": "7c1a1e16-e382-4350-92b9-15820dfc3ee6",
   "metadata": {},
   "outputs": [],
   "source": []
  }
 ],
 "metadata": {
  "kernelspec": {
   "display_name": "Python 3 (ipykernel)",
   "language": "python",
   "name": "python3"
  },
  "language_info": {
   "codemirror_mode": {
    "name": "ipython",
    "version": 3
   },
   "file_extension": ".py",
   "mimetype": "text/x-python",
   "name": "python",
   "nbconvert_exporter": "python",
   "pygments_lexer": "ipython3",
   "version": "3.12.4"
  }
 },
 "nbformat": 4,
 "nbformat_minor": 5
}
